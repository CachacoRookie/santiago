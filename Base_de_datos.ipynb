{
  "nbformat": 4,
  "nbformat_minor": 0,
  "metadata": {
    "colab": {
      "provenance": [],
      "authorship_tag": "ABX9TyMfXnFywpHYHSMnpFX6U15g",
      "include_colab_link": true
    },
    "kernelspec": {
      "name": "python3",
      "display_name": "Python 3"
    },
    "language_info": {
      "name": "python"
    }
  },
  "cells": [
    {
      "cell_type": "markdown",
      "metadata": {
        "id": "view-in-github",
        "colab_type": "text"
      },
      "source": [
        "<a href=\"https://colab.research.google.com/github/CachacoRookie/santiago/blob/main/Base_de_datos.ipynb\" target=\"_parent\"><img src=\"https://colab.research.google.com/assets/colab-badge.svg\" alt=\"Open In Colab\"/></a>"
      ]
    },
    {
      "cell_type": "code",
      "execution_count": 16,
      "metadata": {
        "id": "tkIfz0rcHCxc",
        "colab": {
          "base_uri": "https://localhost:8080/"
        },
        "outputId": "87e31c93-c5f3-4710-ca68-fd60b1d2f7c7"
      },
      "outputs": [
        {
          "output_type": "stream",
          "name": "stdout",
          "text": [
            "                Referencia  Potencia (HP)  Capacidad (L)\n",
            "0  Dodge Challenger Redeye            797            6.2\n",
            "1           Bugatti Chiron           1500            8.0\n",
            "2              Ferrari f40            471            2.9\n",
            "3            Mclaren Senna            789            4.0\n",
            "Media: 5.27\n"
          ]
        }
      ],
      "source": [
        "import pandas as pd\n",
        "df = pd.read_csv('/content/Base de datos.csv', sep=';')\n",
        "print(df)\n",
        "valores = df['Capacidad (L)'].tolist()\n",
        "suma = 0\n",
        "for valor in valores:\n",
        "    suma += float(valor)\n",
        "media = suma / len(valores)\n",
        "print(\"Media:\", round(media, 2))"
      ]
    },
    {
      "cell_type": "code",
      "source": [
        "import pandas as pd\n",
        "df = pd.read_csv('/content/Base de datos.csv', sep=';')\n",
        "capacidades = df['Capacidad (L)'].tolist()\n",
        "capacidades = [float(c) for c in capacidades]\n",
        "capacidades_ordenadas = sorted(capacidades)\n",
        "n = len(capacidades_ordenadas)\n",
        "if n % 2 == 0:\n",
        "    mediana = (capacidades_ordenadas[n//2 - 1] + capacidades_ordenadas[n//2]) / 2\n",
        "else:\n",
        "    mediana = capacidades_ordenadas[n//2]\n",
        "print(\"Mediana de la Capacidad (L):\", mediana)"
      ],
      "metadata": {
        "colab": {
          "base_uri": "https://localhost:8080/"
        },
        "id": "TsYi0zO8LIFP",
        "outputId": "53727b99-6b21-4707-a013-0c044a9277e3"
      },
      "execution_count": 20,
      "outputs": [
        {
          "output_type": "stream",
          "name": "stdout",
          "text": [
            "Mediana de la Capacidad (L): 5.1\n"
          ]
        }
      ]
    },
    {
      "cell_type": "code",
      "source": [
        "import pandas as pd\n",
        "df = pd.read_csv('/content/Base de datos.csv', sep=';')\n",
        "capacidades = df['Capacidad (L)'].tolist()\n",
        "capacidades = [float(c) for c in capacidades]\n",
        "frecuencias = {}\n",
        "for valor in capacidades:\n",
        "    if valor in frecuencias:\n",
        "        frecuencias[valor] += 1\n",
        "    else:\n",
        "        frecuencias[valor] = 1\n",
        "moda = max(frecuencias, key=frecuencias.get)\n",
        "print(\"Moda de la Capacidad (L):\", moda)"
      ],
      "metadata": {
        "colab": {
          "base_uri": "https://localhost:8080/"
        },
        "id": "HWrrpPV7Lypd",
        "outputId": "62e77585-7c89-49cd-c764-6e5e9841821c"
      },
      "execution_count": 21,
      "outputs": [
        {
          "output_type": "stream",
          "name": "stdout",
          "text": [
            "Moda de la Capacidad (L): 6.2\n"
          ]
        }
      ]
    }
  ]
}